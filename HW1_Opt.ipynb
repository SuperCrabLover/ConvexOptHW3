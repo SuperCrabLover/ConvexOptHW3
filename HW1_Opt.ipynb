{
  "nbformat": 4,
  "nbformat_minor": 0,
  "metadata": {
    "colab": {
      "name": "HW1_Opt.ipynb",
      "provenance": [],
      "collapsed_sections": [],
      "authorship_tag": "ABX9TyMWpywsm/OMjHXXxhDThnmJ",
      "include_colab_link": true
    },
    "kernelspec": {
      "name": "python3",
      "display_name": "Python 3"
    },
    "language_info": {
      "name": "python"
    }
  },
  "cells": [
    {
      "cell_type": "markdown",
      "metadata": {
        "id": "view-in-github",
        "colab_type": "text"
      },
      "source": [
        "<a href=\"https://colab.research.google.com/github/SuperCrabLover/ConvexOptHW3/blob/main/HW1_Opt.ipynb\" target=\"_parent\"><img src=\"https://colab.research.google.com/assets/colab-badge.svg\" alt=\"Open In Colab\"/></a>"
      ]
    },
    {
      "cell_type": "code",
      "execution_count": null,
      "metadata": {
        "id": "81TrBnFsEyRx"
      },
      "outputs": [],
      "source": [
        ""
      ]
    },
    {
      "cell_type": "markdown",
      "source": [
        "## Home work 1\n",
        "\n",
        "### Example 7\n",
        "\n",
        "Determine the convergence or divergence of a given sequence \n",
        "$$\n",
        "r_k = \\begin{cases}(1/4)^{2^k}, \\text{ k is even,}\\\\ \n",
        "\\frac{x_{k-1}}{k}, \\text{   k is odd.}\\end{cases}\n",
        "$$\n",
        "**Solution**\n",
        "\n",
        "I have a sequence of positive numbers, converging to zero, so I will use Root test for finding the speed:\n",
        "$$\n",
        "\\overline{\\lim\\limits_{k \\rightarrow \\infty}}\\sqrt[k]{r_k} = \\max{\\{\\lim\\limits_{k \\rightarrow \\infty}(0.25)^{\\frac{2^{(2k)}}{2k}}, \\lim\\limits_{k \\rightarrow \\infty}\\sqrt[2k+1]{\\frac{(0.25)^{2^{2k}}}{2k+1}}}\\} = 0\n",
        "$$\n",
        "I've decided to check the Ratio test as well:\n",
        "$$\n",
        "k \\vdots 2 \\Rightarrow \\lim\\limits_{k \\rightarrow \\infty}\\frac{(1/4)^{2^k}}{k + 1}\\cdot \\frac{1}{(1/4)^{2^k}} =0\n",
        "$$\n",
        "\n",
        "$$\n",
        "k \\; \\not\\vdots 2 \\Rightarrow \\lim\\limits_{k \\rightarrow \\infty}\\frac{r_{k+1}}{r_k} =0\n",
        "$$\n",
        "\n",
        "So the convergence is *superlinear*\n",
        "\n",
        "### Example 8\n",
        "Determine the convergence or divergence of a given sequence\n",
        "$$\n",
        "r_k = \\begin{cases} 1/k, \\text{ if } k \\text{ is even,}\\\\ 1/k^2, \\text{ if } k \\text{ is odd.}\\end{cases}\n",
        "$$\n",
        "\n",
        "I will use Ratio test:\n",
        "$$\n",
        "\\lim\\limits_{k \\}\n",
        "$$"
      ],
      "metadata": {
        "id": "aRno5tfWFIKq"
      }
    }
  ]
}